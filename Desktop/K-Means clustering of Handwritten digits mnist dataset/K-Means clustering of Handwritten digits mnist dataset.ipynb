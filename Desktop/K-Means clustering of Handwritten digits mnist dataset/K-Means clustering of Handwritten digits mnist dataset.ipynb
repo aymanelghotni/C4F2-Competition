{
 "cells": [
  {
   "cell_type": "code",
   "execution_count": 1,
   "metadata": {},
   "outputs": [
    {
     "name": "stdout",
     "output_type": "stream",
     "text": [
      "C:\\Users\\Ayman\\Desktop\n"
     ]
    }
   ],
   "source": [
    "cd Desktop"
   ]
  },
  {
   "cell_type": "code",
   "execution_count": 2,
   "metadata": {},
   "outputs": [],
   "source": [
    "import matplotlib.pyplot as plt\n",
    "import gzip\n",
    "import numpy as np"
   ]
  },
  {
   "cell_type": "code",
   "execution_count": 17,
   "metadata": {},
   "outputs": [],
   "source": [
    "\n",
    "f = gzip.open('./train/train-images-idx3-ubyte.gz','r')\n",
    "g=gzip.open('./train/train-labels-idx1-ubyte.gz','r')\n",
    "image_size = 28 \n",
    "num_images = 100 #taking 5000 images from the ds\n",
    "\n",
    "import numpy as np\n",
    "f.read(100)\n",
    "g.read(8)\n",
    "buf = f.read(image_size * image_size * num_images)\n",
    "buf2=g.read(num_images)\n",
    "data = np.frombuffer(buf, dtype=np.uint8).astype(np.float32)\n",
    "data = data.reshape(num_images, image_size, image_size, 1)\n",
    "labels=np.frombuffer(buf2, dtype=np.uint8)"
   ]
  },
  {
   "cell_type": "code",
   "execution_count": 24,
   "metadata": {},
   "outputs": [
    {
     "name": "stdout",
     "output_type": "stream",
     "text": [
      "(100, 28, 28, 1)\n",
      "3\n"
     ]
    },
    {
     "data": {
      "image/png": "[encoded data removed]",
      "text/plain": [
       "<Figure size 432x288 with 1 Axes>"
      ]
     },
     "metadata": {
      "needs_background": "light"
     },
     "output_type": "display_data"
    }
   ],
   "source": [
    "print(data.shape)\n",
    "image = np.asarray(data[7]).squeeze()\n",
    "print(labels[7])\n",
    "plt.imshow(image)\n",
    "plt.show()"
   ]
  },
  {
   "cell_type": "code",
   "execution_count": 16,
   "metadata": {},
   "outputs": [],
   "source": [
    "data=data.reshape(5000,28*28) #reshaping the data so we can cluster easily"
   ]
  },
  {
   "cell_type": "code",
   "execution_count": 479,
   "metadata": {},
   "outputs": [
    {
     "data": {
      "text/plain": [
       "(5000, 784)"
      ]
     },
     "execution_count": 479,
     "metadata": {},
     "output_type": "execute_result"
    }
   ],
   "source": [
    "data.shape"
   ]
  },
  {
   "cell_type": "code",
   "execution_count": 480,
   "metadata": {},
   "outputs": [],
   "source": [
    "data=data/255. #data normalization"
   ]
  },
  {
   "cell_type": "code",
   "execution_count": 260,
   "metadata": {},
   "outputs": [],
   "source": [
    "k=5 #start with 5 clusters\n",
    "centroids=[]\n",
    "clusters={}\n",
    "for i in range(k):\n",
    "    centroids.append(np.random.rand(784,1))\n",
    "    clusters[str(i)]=np.zeros((784,1))"
   ]
  },
  {
   "cell_type": "code",
   "execution_count": 205,
   "metadata": {},
   "outputs": [],
   "source": [
    "data=np.array(data)\n",
    "a=data[0].reshape(784,1)"
   ]
  },
  {
   "cell_type": "code",
   "execution_count": 206,
   "metadata": {},
   "outputs": [],
   "source": [
    "clusters['0']=np.append(clusters['0'],a,axis=1)"
   ]
  },
  {
   "cell_type": "code",
   "execution_count": 207,
   "metadata": {},
   "outputs": [
    {
     "data": {
      "text/plain": [
       "(784, 2)"
      ]
     },
     "execution_count": 207,
     "metadata": {},
     "output_type": "execute_result"
    }
   ],
   "source": [
    "clusters['0'].shape\n"
   ]
  },
  {
   "cell_type": "code",
   "execution_count": 3,
   "metadata": {},
   "outputs": [],
   "source": [
    "def distortion_measure(clusters,centroids):\n",
    "    mse=0\n",
    "    for i in range(len(centroids)):\n",
    "        mse+=np.sum(np.square(clusters[str(i)][:-1,:]-centroids[i]))\n",
    "    return mse"
   ]
  },
  {
   "cell_type": "code",
   "execution_count": 4,
   "metadata": {},
   "outputs": [],
   "source": [
    "def load_data(num_images=5000): #read the data from the dataset and returns the array of data and an array of labels\n",
    "    f = gzip.open('./train/train-images-idx3-ubyte.gz','r')\n",
    "    g=gzip.open('./train/train-labels-idx1-ubyte.gz','r')\n",
    "    image_size = 28 \n",
    "    f.read(100)\n",
    "    g.read(8)\n",
    "    buf = f.read(image_size * image_size * num_images)\n",
    "    buf2 = g.read(num_images)\n",
    "    data = np.frombuffer(buf, dtype=np.uint8).astype(np.float32)\n",
    "    data = data.reshape(num_images, image_size*image_size)\n",
    "    data = data/255.\n",
    "    labels=np.frombuffer(buf2, dtype=np.uint8)\n",
    "    return data,labels "
   ]
  },
  {
   "cell_type": "code",
   "execution_count": 5,
   "metadata": {},
   "outputs": [],
   "source": [
    "def initialize_centroids(k,data):\n",
    "    centroids=[]\n",
    "    for i in range(k):\n",
    "        centroids.append(data[np.random.randint(0,data.shape[0]),:-1])\n",
    "        centroids[i]=centroids[i].reshape((784,1)) #initialize the centroids random examples inside the data set\n",
    "    return centroids"
   ]
  },
  {
   "cell_type": "code",
   "execution_count": 6,
   "metadata": {},
   "outputs": [],
   "source": [
    "def initialize_clusters(k):\n",
    "    clusters={}\n",
    "    for i in range(k):\n",
    "        clusters[str(i)]=np.zeros((785,1))#initialize the clusters with an empty vector so we can append on it\n",
    "    return clusters"
   ]
  },
  {
   "cell_type": "code",
   "execution_count": 7,
   "metadata": {},
   "outputs": [],
   "source": [
    "def cluster(data,k=10): #K-Means clustering using a default k value =10\n",
    "    changed=True #flag that marks when the centroids change, (centroids-mean =0)\n",
    "    it=0\n",
    "    distortion_array=[] #to append distortions so we can plot\n",
    "    accuracy_array=[] #to append accuracies so we can plot\n",
    "    centroids=initialize_centroids(k,data) #initializing centroids\n",
    "    \n",
    "    while(changed): \n",
    "        clusters=initialize_clusters(k)\n",
    "        print(\"Iteration: \"+str(it)) #print iteration number in each iteration\n",
    "        it+=1\n",
    "        changed=False\n",
    "        for i in range (data.shape[0]):\n",
    "            minimum=100000\n",
    "            index=0\n",
    "            data_numpy=data[i].reshape(785,1) #reshaping the data from (785,) to (785,1) a type 1 array\n",
    "            for j in range(k):\n",
    "                temp=abs(np.linalg.norm(data_numpy[:-1,:]-centroids[j])) #we ignore the data_numpy[785,1] because it is reserved for the label\n",
    "                if temp<minimum: #get the minimum distance's index to append on it\n",
    "                    index=j\n",
    "                    minimum=temp\n",
    "            clusters[str(index)]=np.append(clusters[str(index)],data_numpy,axis=1) \n",
    "        mean=[]\n",
    "        for i in range(k):\n",
    "            curr_mean=np.mean(clusters[str(i)][:-1,:],axis=1) #get the mean so we can compare it to the centroid\n",
    "            curr_mean=curr_mean.reshape((784,1))          \n",
    "            if sum(abs(centroids[i]-curr_mean))>0.0001: #tolerance because it can exist numerical error\n",
    "                centroids[i]=curr_mean\n",
    "                changed=True\n",
    "            mean.append(curr_mean) #mean array so we can plot the mean images\n",
    "        distortion_var=distortion_measure(clusters,centroids)\n",
    "        distortion_array.append(distortion_var)\n",
    "        accuracy_var=compute_accuracy(clusters,k)\n",
    "        accuracy_array.append(accuracy_var)\n",
    "        print(\"Distortion: \"+str(distortion_var)) #print the distortion in each iteration\n",
    "        print(\"Accuracy: \"+str(accuracy_var))  #print the accuracy in each iteration\n",
    "    return clusters,centroids,distortion_array,mean,accuracy_array\n",
    "            "
   ]
  },
  {
   "cell_type": "code",
   "execution_count": 8,
   "metadata": {},
   "outputs": [],
   "source": [
    "def compute_accuracy(clusters,k):\n",
    "    labels=[]\n",
    "    accuracy=0\n",
    "    for i in range(k):\n",
    "        labels.append(clusters[str(i)][-1,1:]) #get all labels\n",
    "    for label in labels:\n",
    "        accuracies=[]\n",
    "        accuracies.append(0)\n",
    "        if len(label)>0:\n",
    "            for i in range(k):\n",
    "                accuracies.append((sum(label==i))/len(label))\n",
    "        accuracy+=max(accuracies) # get the maximum accuracy, which represent the label of the cluster and add it to the accuracy sum\n",
    "    return accuracy/k #return average accuracy"
   ]
  },
  {
   "cell_type": "code",
   "execution_count": 46,
   "metadata": {
    "scrolled": false
   },
   "outputs": [
    {
     "name": "stdout",
     "output_type": "stream",
     "text": [
      "Iteration: 0\n",
      "Distortion: 213345.51618727398\n",
      "Accuracy: 0.49338227987788824\n",
      "Iteration: 1\n",
      "Distortion: 202826.22625328813\n",
      "Accuracy: 0.5282972042661818\n",
      "Iteration: 2\n",
      "Distortion: 199773.56270199528\n",
      "Accuracy: 0.5412780062505381\n",
      "Iteration: 3\n",
      "Distortion: 198548.64413415297\n",
      "Accuracy: 0.5461244003543302\n",
      "Iteration: 4\n",
      "Distortion: 197862.06680225465\n",
      "Accuracy: 0.5531161586861105\n",
      "Iteration: 5\n",
      "Distortion: 197445.77388734953\n",
      "Accuracy: 0.558223000175332\n",
      "Iteration: 6\n",
      "Distortion: 197188.57181137084\n",
      "Accuracy: 0.560300809089254\n",
      "Iteration: 7\n",
      "Distortion: 196964.12477876333\n",
      "Accuracy: 0.5641155399066227\n",
      "Iteration: 8\n",
      "Distortion: 196752.510808789\n",
      "Accuracy: 0.5647186126211353\n",
      "Iteration: 9\n",
      "Distortion: 196561.2572422764\n",
      "Accuracy: 0.5671017840275566\n",
      "Iteration: 10\n",
      "Distortion: 196371.2732866929\n",
      "Accuracy: 0.5696907619854807\n",
      "Iteration: 11\n",
      "Distortion: 196224.37858809257\n",
      "Accuracy: 0.5740994491965925\n",
      "Iteration: 12\n",
      "Distortion: 196073.85718573583\n",
      "Accuracy: 0.5754722111167635\n",
      "Iteration: 13\n",
      "Distortion: 195906.57631652412\n",
      "Accuracy: 0.5750037079883652\n",
      "Iteration: 14\n",
      "Distortion: 195776.64070551973\n",
      "Accuracy: 0.5741025372449763\n",
      "Iteration: 15\n",
      "Distortion: 195678.12571178627\n",
      "Accuracy: 0.5739680153153329\n",
      "Iteration: 16\n",
      "Distortion: 195602.2581376155\n",
      "Accuracy: 0.5739301304596166\n",
      "Iteration: 17\n",
      "Distortion: 195547.9612797319\n",
      "Accuracy: 0.5725908378640094\n",
      "Iteration: 18\n",
      "Distortion: 195491.28735658096\n",
      "Accuracy: 0.5722972668581388\n",
      "Iteration: 19\n",
      "Distortion: 195441.79891550713\n",
      "Accuracy: 0.5717673715399837\n",
      "Iteration: 20\n",
      "Distortion: 195375.6856008581\n",
      "Accuracy: 0.5715673358214144\n",
      "Iteration: 21\n",
      "Distortion: 195325.0392689542\n",
      "Accuracy: 0.5711902579235822\n",
      "Iteration: 22\n",
      "Distortion: 195307.92534714585\n",
      "Accuracy: 0.5706917588345403\n",
      "Iteration: 23\n",
      "Distortion: 195300.15393003196\n",
      "Accuracy: 0.57041856950454\n",
      "Iteration: 24\n",
      "Distortion: 195294.6089243079\n",
      "Accuracy: 0.5700117760779059\n",
      "Iteration: 25\n",
      "Distortion: 195289.6250243535\n",
      "Accuracy: 0.5693225488442544\n",
      "Iteration: 26\n",
      "Distortion: 195284.39362465887\n",
      "Accuracy: 0.5694472805903507\n",
      "Iteration: 27\n",
      "Distortion: 195278.60625359666\n",
      "Accuracy: 0.5699078890904439\n",
      "Iteration: 28\n",
      "Distortion: 195271.59343357783\n",
      "Accuracy: 0.569921072254561\n",
      "Iteration: 29\n",
      "Distortion: 195267.63963053402\n",
      "Accuracy: 0.5697170628671924\n",
      "Iteration: 30\n",
      "Distortion: 195264.7624394811\n",
      "Accuracy: 0.5697095680933234\n",
      "Iteration: 31\n",
      "Distortion: 195259.07123917877\n",
      "Accuracy: 0.5696593164236536\n",
      "Iteration: 32\n",
      "Distortion: 195250.9923822051\n",
      "Accuracy: 0.5692500641596454\n",
      "Iteration: 33\n",
      "Distortion: 195247.21334908213\n",
      "Accuracy: 0.568912850514093\n",
      "Iteration: 34\n",
      "Distortion: 195244.87119162036\n",
      "Accuracy: 0.568694660141798\n",
      "Iteration: 35\n",
      "Distortion: 195241.1776088305\n",
      "Accuracy: 0.5686471709228835\n",
      "Iteration: 36\n",
      "Distortion: 195235.16268307078\n",
      "Accuracy: 0.5689778525804894\n",
      "Iteration: 37\n",
      "Distortion: 195228.14880463592\n",
      "Accuracy: 0.5686764636975847\n",
      "Iteration: 38\n",
      "Distortion: 195220.8794892315\n",
      "Accuracy: 0.5685043978670292\n",
      "Iteration: 39\n",
      "Distortion: 195213.6473896741\n",
      "Accuracy: 0.5686212307951075\n",
      "Iteration: 40\n",
      "Distortion: 195206.38245878334\n",
      "Accuracy: 0.5688810082331961\n",
      "Iteration: 41\n",
      "Distortion: 195202.65698339645\n",
      "Accuracy: 0.5693750706979985\n",
      "Iteration: 42\n",
      "Distortion: 195197.96870573633\n",
      "Accuracy: 0.5697086283644788\n",
      "Iteration: 43\n",
      "Distortion: 195192.14080970077\n",
      "Accuracy: 0.5691718782314459\n",
      "Iteration: 44\n",
      "Distortion: 195180.60234532092\n",
      "Accuracy: 0.5692715281583947\n",
      "Iteration: 45\n",
      "Distortion: 195164.12434595014\n",
      "Accuracy: 0.5693647184218263\n",
      "Iteration: 46\n",
      "Distortion: 195148.5077730801\n",
      "Accuracy: 0.5690153022832126\n",
      "Iteration: 47\n",
      "Distortion: 195137.36364413475\n",
      "Accuracy: 0.5690942313090337\n",
      "Iteration: 48\n",
      "Distortion: 195127.41600664277\n",
      "Accuracy: 0.5684599606400488\n",
      "Iteration: 49\n",
      "Distortion: 195113.49506318418\n",
      "Accuracy: 0.5677127301931952\n",
      "Iteration: 50\n",
      "Distortion: 195106.61680693654\n",
      "Accuracy: 0.5679958028333478\n",
      "Iteration: 51\n",
      "Distortion: 195104.28531762533\n",
      "Accuracy: 0.5679170492949669\n",
      "Iteration: 52\n",
      "Distortion: 195103.9488747142\n",
      "Accuracy: 0.5682351818915623\n",
      "Iteration: 53\n",
      "Distortion: 195102.72492501792\n",
      "Accuracy: 0.5677549731239654\n",
      "Iteration: 54\n",
      "Distortion: 195101.85254358134\n",
      "Accuracy: 0.5678333028341547\n",
      "Iteration: 55\n",
      "Distortion: 195101.16815027766\n",
      "Accuracy: 0.5680606946612953\n",
      "Iteration: 56\n",
      "Distortion: 195100.44760089146\n",
      "Accuracy: 0.5680072543295434\n",
      "Iteration: 57\n",
      "Distortion: 195099.5964483088\n",
      "Accuracy: 0.5676428856962381\n",
      "Iteration: 58\n",
      "Distortion: 195099.18205794675\n",
      "Accuracy: 0.5674893209723251\n",
      "Iteration: 59\n",
      "Distortion: 195098.2716697461\n",
      "Accuracy: 0.5672098892511762\n",
      "Iteration: 60\n",
      "Distortion: 195095.197832662\n",
      "Accuracy: 0.5666047738437661\n",
      "Iteration: 61\n",
      "Distortion: 195092.12762657797\n",
      "Accuracy: 0.5664980971570773\n",
      "Iteration: 62\n",
      "Distortion: 195089.08839638557\n",
      "Accuracy: 0.5663741922958981\n",
      "Iteration: 63\n",
      "Distortion: 195088.3964043669\n",
      "Accuracy: 0.5665285883716404\n",
      "Iteration: 64\n",
      "Distortion: 195088.21565060684\n",
      "Accuracy: 0.5665351642496447\n",
      "Iteration: 65\n",
      "Distortion: 195087.74011611\n",
      "Accuracy: 0.5667076671379438\n",
      "Iteration: 66\n",
      "Distortion: 195087.40538108442\n",
      "Accuracy: 0.5668734431116692\n",
      "Iteration: 67\n",
      "Distortion: 195087.0058218801\n",
      "Accuracy: 0.5669122328079894\n",
      "Iteration: 68\n",
      "Distortion: 195086.09946429453\n",
      "Accuracy: 0.5672599843099435\n",
      "Iteration: 69\n",
      "Distortion: 195085.96632681016\n",
      "Accuracy: 0.567274821544173\n",
      "Iteration: 70\n",
      "Distortion: 195085.83241785408\n",
      "Accuracy: 0.5671055595830017\n",
      "Iteration: 71\n",
      "Distortion: 195085.83241785408\n",
      "Accuracy: 0.5671055595830017\n"
     ]
    }
   ],
   "source": [
    "k=10\n",
    "num_images=5000 #taking 5000 samples from the dataset (there exist 60000 samples but it takes forever to train)\n",
    "data,labels=load_data(num_images)\n",
    "labels=labels.reshape((num_images,1))\n",
    "data=np.concatenate((data,labels),axis=1)\n",
    "clusters,centroids,distortion_array,mean,accuracy_array=cluster(data,k)\n"
   ]
  },
  {
   "cell_type": "code",
   "execution_count": 47,
   "metadata": {},
   "outputs": [],
   "source": [
    "x=range(72)"
   ]
  },
  {
   "cell_type": "code",
   "execution_count": 49,
   "metadata": {},
   "outputs": [
    {
     "data": {
      "text/plain": [
       "<function matplotlib.pyplot.show(*args, **kw)>"
      ]
     },
     "execution_count": 49,
     "metadata": {},
     "output_type": "execute_result"
    },
    {
     "data": {
      "image/png": "[encoded data removed]",
      "text/plain": [
       "<Figure size 432x288 with 1 Axes>"
      ]
     },
     "metadata": {
      "needs_background": "light"
     },
     "output_type": "display_data"
    }
   ],
   "source": [
    "plt.plot(x,distortion_array)\n",
    "plt.show"
   ]
  },
  {
   "cell_type": "code",
   "execution_count": 94,
   "metadata": {},
   "outputs": [
    {
     "name": "stdout",
     "output_type": "stream",
     "text": [
      "0.40784313725490196\n"
     ]
    },
    {
     "data": {
      "image/png": "[encoded data removed]",
      "text/plain": [
       "<Figure size 432x288 with 1 Axes>"
      ]
     },
     "metadata": {
      "needs_background": "light"
     },
     "output_type": "display_data"
    }
   ],
   "source": [
    "label=clusters['2'][-1,:]\n",
    "repre=clusters['2'][:-1,2].reshape(1,28,28,1)\n",
    "mean_img=mean[0].reshape(28,28,1)\n",
    "label_bool=(label==4.0)\n",
    "print(sum(label_bool)/(len(label_bool)-1))\n",
    "#print(label_bool)\n",
    "image = np.asarray(repre.squeeze())\n",
    "plt.imshow(image)\n",
    "plt.show()"
   ]
  },
  {
   "cell_type": "markdown",
   "metadata": {},
   "source": []
  },
  {
   "cell_type": "code",
   "execution_count": 377,
   "metadata": {},
   "outputs": [],
   "source": []
  },
  {
   "cell_type": "code",
   "execution_count": 380,
   "metadata": {},
   "outputs": [],
   "source": []
  },
  {
   "cell_type": "code",
   "execution_count": null,
   "metadata": {},
   "outputs": [],
   "source": []
  },
  {
   "cell_type": "code",
   "execution_count": 96,
   "metadata": {},
   "outputs": [
    {
     "data": {
      "text/plain": [
       "(785,)"
      ]
     },
     "execution_count": 96,
     "metadata": {},
     "output_type": "execute_result"
    }
   ],
   "source": [
    "data[0].shape"
   ]
  },
  {
   "cell_type": "code",
   "execution_count": null,
   "metadata": {},
   "outputs": [],
   "source": []
  },
  {
   "cell_type": "code",
   "execution_count": 437,
   "metadata": {},
   "outputs": [],
   "source": []
  },
  {
   "cell_type": "code",
   "execution_count": null,
   "metadata": {},
   "outputs": [],
   "source": []
  },
  {
   "cell_type": "code",
   "execution_count": 95,
   "metadata": {},
   "outputs": [
    {
     "data": {
      "text/plain": [
       "5000"
      ]
     },
     "execution_count": 95,
     "metadata": {},
     "output_type": "execute_result"
    }
   ],
   "source": [
    "data.shape[0]"
   ]
  },
  {
   "cell_type": "code",
   "execution_count": null,
   "metadata": {},
   "outputs": [],
   "source": []
  }
 ],
 "metadata": {
  "kernelspec": {
   "display_name": "Python 3",
   "language": "python",
   "name": "python3"
  },
  "language_info": {
   "codemirror_mode": {
    "name": "ipython",
    "version": 3
   },
   "file_extension": ".py",
   "mimetype": "text/x-python",
   "name": "python",
   "nbconvert_exporter": "python",
   "pygments_lexer": "ipython3",
   "version": "3.8.3"
  }
 },
 "nbformat": 4,
 "nbformat_minor": 4
}
